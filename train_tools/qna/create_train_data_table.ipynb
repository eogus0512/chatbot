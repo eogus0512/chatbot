{
 "cells": [
  {
   "cell_type": "code",
   "execution_count": 33,
   "metadata": {},
   "outputs": [],
   "source": [
    "import pymysql\n",
    "from DatabaseConfig import *\n",
    "\n",
    "db = None\n",
    "try:\n",
    "    db = pymysql.connect(\n",
    "    host=DB_HOST,\n",
    "    user=DB_USER,\n",
    "    passwd=DB_PASSWORD,\n",
    "    db=DB_NAME,\n",
    "    charset='utf8'\n",
    "    )\n",
    "    \n",
    "    sql = '''\n",
    "        CREATE TABLE IF NOT EXISTS chatbot_train_data (\n",
    "        id INT UNSIGNED NOT NULL AUTO_INCREMENT,\n",
    "        intent VARCHAR(45) NULL,\n",
    "        ner VARCHAR(1024) NULL,\n",
    "        query TEXT NULL,\n",
    "        answer TEXT NOT NULL,\n",
    "        answer_image VARCHAR(2048) NULL,\n",
    "        PRIMARY KEY (id))\n",
    "    ENGINE = InnoDB DEFAULT CHARSET=utf8\n",
    "    '''\n",
    "    \n",
    "    with db.cursor() as cursor:\n",
    "        cursor.execute(sql)\n",
    "        \n",
    "except Exception(e):\n",
    "    print(e)\n",
    "        \n",
    "finally:\n",
    "    if db is not None:\n",
    "        db.close()"
   ]
  }
 ],
 "metadata": {
  "kernelspec": {
   "display_name": "Python 3",
   "language": "python",
   "name": "python3"
  },
  "language_info": {
   "codemirror_mode": {
    "name": "ipython",
    "version": 3
   },
   "file_extension": ".py",
   "mimetype": "text/x-python",
   "name": "python",
   "nbconvert_exporter": "python",
   "pygments_lexer": "ipython3",
   "version": "3.8.5"
  }
 },
 "nbformat": 4,
 "nbformat_minor": 4
}
